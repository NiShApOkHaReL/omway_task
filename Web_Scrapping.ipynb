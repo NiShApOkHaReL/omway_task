{
 "cells": [
  {
   "cell_type": "code",
   "execution_count": 2,
   "id": "bcf5c005",
   "metadata": {},
   "outputs": [
    {
     "name": "stdout",
     "output_type": "stream",
     "text": [
      "Requirement already satisfied: selenium in c:\\users\\absol\\anaconda3\\lib\\site-packages (4.31.0)\n",
      "Collecting webdriver-manager\n",
      "  Downloading webdriver_manager-4.0.2-py2.py3-none-any.whl.metadata (12 kB)\n",
      "Requirement already satisfied: beautifulsoup4 in c:\\users\\absol\\anaconda3\\lib\\site-packages (4.11.1)\n",
      "Requirement already satisfied: pandas in c:\\users\\absol\\anaconda3\\lib\\site-packages (1.5.3)\n",
      "Requirement already satisfied: urllib3<3,>=1.26 in c:\\users\\absol\\anaconda3\\lib\\site-packages (from urllib3[socks]<3,>=1.26->selenium) (1.26.14)\n",
      "Requirement already satisfied: trio~=0.17 in c:\\users\\absol\\anaconda3\\lib\\site-packages (from selenium) (0.30.0)\n",
      "Requirement already satisfied: trio-websocket~=0.9 in c:\\users\\absol\\anaconda3\\lib\\site-packages (from selenium) (0.12.2)\n",
      "Requirement already satisfied: certifi>=2021.10.8 in c:\\users\\absol\\anaconda3\\lib\\site-packages (from selenium) (2023.7.22)\n",
      "Requirement already satisfied: typing_extensions~=4.9 in c:\\users\\absol\\appdata\\roaming\\python\\python310\\site-packages (from selenium) (4.12.1)\n",
      "Requirement already satisfied: websocket-client~=1.8 in c:\\users\\absol\\anaconda3\\lib\\site-packages (from selenium) (1.8.0)\n",
      "Requirement already satisfied: requests in c:\\users\\absol\\anaconda3\\lib\\site-packages (from webdriver-manager) (2.28.1)\n",
      "Requirement already satisfied: python-dotenv in c:\\users\\absol\\anaconda3\\lib\\site-packages (from webdriver-manager) (1.0.1)\n",
      "Requirement already satisfied: packaging in c:\\users\\absol\\appdata\\roaming\\python\\python310\\site-packages (from webdriver-manager) (24.0)\n",
      "Requirement already satisfied: soupsieve>1.2 in c:\\users\\absol\\anaconda3\\lib\\site-packages (from beautifulsoup4) (2.3.2.post1)\n",
      "Requirement already satisfied: python-dateutil>=2.8.1 in c:\\users\\absol\\anaconda3\\lib\\site-packages (from pandas) (2.8.2)\n",
      "Requirement already satisfied: pytz>=2020.1 in c:\\users\\absol\\appdata\\roaming\\python\\python310\\site-packages (from pandas) (2024.1)\n",
      "Requirement already satisfied: numpy>=1.21.0 in c:\\users\\absol\\appdata\\roaming\\python\\python310\\site-packages (from pandas) (1.26.4)\n",
      "Requirement already satisfied: six>=1.5 in c:\\users\\absol\\appdata\\roaming\\python\\python310\\site-packages (from python-dateutil>=2.8.1->pandas) (1.16.0)\n",
      "Requirement already satisfied: attrs>=23.2.0 in c:\\users\\absol\\anaconda3\\lib\\site-packages (from trio~=0.17->selenium) (23.2.0)\n",
      "Requirement already satisfied: sortedcontainers in c:\\users\\absol\\anaconda3\\lib\\site-packages (from trio~=0.17->selenium) (2.4.0)\n",
      "Requirement already satisfied: idna in c:\\users\\absol\\anaconda3\\lib\\site-packages (from trio~=0.17->selenium) (2.10)\n",
      "Requirement already satisfied: outcome in c:\\users\\absol\\anaconda3\\lib\\site-packages (from trio~=0.17->selenium) (1.3.0.post0)\n",
      "Requirement already satisfied: sniffio>=1.3.0 in c:\\users\\absol\\anaconda3\\lib\\site-packages (from trio~=0.17->selenium) (1.3.1)\n",
      "Requirement already satisfied: cffi>=1.14 in c:\\users\\absol\\anaconda3\\lib\\site-packages (from trio~=0.17->selenium) (1.15.1)\n",
      "Requirement already satisfied: exceptiongroup in c:\\users\\absol\\anaconda3\\lib\\site-packages (from trio~=0.17->selenium) (1.2.2)\n",
      "Requirement already satisfied: wsproto>=0.14 in c:\\users\\absol\\anaconda3\\lib\\site-packages (from trio-websocket~=0.9->selenium) (1.2.0)\n",
      "Requirement already satisfied: PySocks!=1.5.7,<2.0,>=1.5.6 in c:\\users\\absol\\anaconda3\\lib\\site-packages (from urllib3[socks]<3,>=1.26->selenium) (1.7.1)\n",
      "Requirement already satisfied: charset-normalizer<3,>=2 in c:\\users\\absol\\anaconda3\\lib\\site-packages (from requests->webdriver-manager) (2.0.4)\n",
      "Requirement already satisfied: pycparser in c:\\users\\absol\\anaconda3\\lib\\site-packages (from cffi>=1.14->trio~=0.17->selenium) (2.21)\n",
      "Requirement already satisfied: h11<1,>=0.9.0 in c:\\users\\absol\\anaconda3\\lib\\site-packages (from wsproto>=0.14->trio-websocket~=0.9->selenium) (0.14.0)\n",
      "Downloading webdriver_manager-4.0.2-py2.py3-none-any.whl (27 kB)\n",
      "Installing collected packages: webdriver-manager\n",
      "Successfully installed webdriver-manager-4.0.2\n"
     ]
    }
   ],
   "source": [
    "!pip install selenium webdriver-manager beautifulsoup4 pandas\n"
   ]
  },
  {
   "cell_type": "code",
   "execution_count": 16,
   "id": "45f4f6e8",
   "metadata": {},
   "outputs": [
    {
     "name": "stdout",
     "output_type": "stream",
     "text": [
      "Collecting html-table-parser-python3\n",
      "  Downloading html_table_parser_python3-0.3.1-py3-none-any.whl.metadata (2.3 kB)\n",
      "Downloading html_table_parser_python3-0.3.1-py3-none-any.whl (15 kB)\n",
      "Installing collected packages: html-table-parser-python3\n",
      "Successfully installed html-table-parser-python3-0.3.1\n",
      "Note: you may need to restart the kernel to use updated packages.\n"
     ]
    }
   ],
   "source": [
    "pip install html-table-parser-python3\n"
   ]
  },
  {
   "cell_type": "code",
   "execution_count": 28,
   "id": "3fa612b6",
   "metadata": {},
   "outputs": [
    {
     "name": "stdout",
     "output_type": "stream",
     "text": [
      "Requirement already satisfied: requests in c:\\users\\absol\\anaconda3\\lib\\site-packages (2.28.1)\n",
      "Requirement already satisfied: charset-normalizer<3,>=2 in c:\\users\\absol\\anaconda3\\lib\\site-packages (from requests) (2.0.4)\n",
      "Requirement already satisfied: idna<4,>=2.5 in c:\\users\\absol\\anaconda3\\lib\\site-packages (from requests) (2.10)\n",
      "Requirement already satisfied: urllib3<1.27,>=1.21.1 in c:\\users\\absol\\anaconda3\\lib\\site-packages (from requests) (1.26.14)\n",
      "Requirement already satisfied: certifi>=2017.4.17 in c:\\users\\absol\\anaconda3\\lib\\site-packages (from requests) (2023.7.22)\n"
     ]
    }
   ],
   "source": [
    "!pip install requests\n"
   ]
  },
  {
   "cell_type": "markdown",
   "id": "cedfa04a",
   "metadata": {},
   "source": [
    "# Using HTML parser"
   ]
  },
  {
   "cell_type": "code",
   "execution_count": 29,
   "id": "54791247",
   "metadata": {},
   "outputs": [],
   "source": [
    "import urllib.request\n",
    "from pprint import pprint\n",
    "from html_table_parser.parser import HTMLTableParser\n",
    "import pandas as pd\n",
    "import requests"
   ]
  },
  {
   "cell_type": "code",
   "execution_count": 34,
   "id": "ce1eaed3",
   "metadata": {},
   "outputs": [],
   "source": [
    "def url_get_contents(url):\n",
    "    req = urllib.request.Request(url=url)\n",
    "    f = urllib.request.urlopen(req)\n",
    "    return f.read()\n",
    "\n"
   ]
  },
  {
   "cell_type": "code",
   "execution_count": 35,
   "id": "48c72c5b",
   "metadata": {},
   "outputs": [],
   "source": [
    "url = 'https://www.sharesansar.com/company/sarbtm'\n"
   ]
  },
  {
   "cell_type": "code",
   "execution_count": 36,
   "id": "4467a510",
   "metadata": {},
   "outputs": [],
   "source": [
    "xhtml = url_get_contents(url).decode('utf-8')\n",
    "# xhtml = url_get_contents(url)\n"
   ]
  },
  {
   "cell_type": "code",
   "execution_count": 37,
   "id": "d9a54694",
   "metadata": {},
   "outputs": [],
   "source": [
    "p = HTMLTableParser()\n",
    "p.feed(xhtml)"
   ]
  },
  {
   "cell_type": "code",
   "execution_count": 38,
   "id": "a3a76890",
   "metadata": {},
   "outputs": [
    {
     "name": "stdout",
     "output_type": "stream",
     "text": [
      "\n",
      "Number of tables found: 18\n",
      "\n"
     ]
    }
   ],
   "source": [
    "print(f\"\\nNumber of tables found: {len(p.tables)}\\n\")"
   ]
  },
  {
   "cell_type": "code",
   "execution_count": 39,
   "id": "be24fd63",
   "metadata": {},
   "outputs": [
    {
     "name": "stdout",
     "output_type": "stream",
     "text": [
      "Table 0:\n",
      "\n",
      "[['Bonus Share', '7.00\\n                                                %'],\n",
      " ['Cash Dividend', '3.00\\n                                                %'],\n",
      " ['Year', '2080/2081'],\n",
      " ['Book Close Date', '2024-12-27']]\n",
      "------------------------------------------------------------\n",
      "Table 1:\n",
      "\n",
      "[['NO RECORD FOUND']]\n",
      "------------------------------------------------------------\n",
      "Table 2:\n",
      "\n",
      "[['NO RECORD FOUND']]\n",
      "------------------------------------------------------------\n",
      "Table 3:\n",
      "\n",
      "[['Support level (S3)', '839.03'],\n",
      " ['Support level (S2)', '853.51'],\n",
      " ['Support level (S1)', '866.03'],\n",
      " ['Pivot Point (PP)', '880.51'],\n",
      " ['Resistance level (R1)', '893.03'],\n",
      " ['Resistance level (R2)', '907.51'],\n",
      " ['Resistance level (R3)', '920.03']]\n",
      "------------------------------------------------------------\n",
      "Table 4:\n",
      "\n",
      "[['MA5', '855.92'],\n",
      " ['Signal', 'BULLISH'],\n",
      " ['MA20', '811.96'],\n",
      " ['Signal', 'BULLISH'],\n",
      " ['MA180', '810.60'],\n",
      " ['Signal', 'BULLISH']]\n",
      "------------------------------------------------------------\n",
      "Table 5:\n",
      "\n",
      "[['Symbol', 'SARBTM'],\n",
      " ['Name', 'Sarbottam Cement Limited'],\n",
      " ['Sector', 'Manufacturing and Processing'],\n",
      " ['Listed Shares',\n",
      "  '49,755,000.00\\n                                                    units'],\n",
      " ['Paid Up', 'Rs.\\n                                                    100.00'],\n",
      " ['Total Paid Up Value',\n",
      "  'Rs.\\n                                                    4,975,500,000.00'],\n",
      " ['Operation Date', ''],\n",
      " ['Phone Number', '+977 01 14111942 , +977 01 4117502'],\n",
      " ['Email', 'info@sarbottamcement.com'],\n",
      " ['Address', 'Neupane Tower Tinkune, Kathmandu, Nepal.'],\n",
      " ['Website Link', '']]\n",
      "------------------------------------------------------------\n",
      "Table 6:\n",
      "\n",
      "[]\n",
      "------------------------------------------------------------\n",
      "Table 7:\n",
      "\n",
      "[]\n",
      "------------------------------------------------------------\n",
      "Table 8:\n",
      "\n",
      "[]\n",
      "------------------------------------------------------------\n",
      "Table 9:\n",
      "\n",
      "[]\n",
      "------------------------------------------------------------\n",
      "Table 10:\n",
      "\n",
      "[]\n",
      "------------------------------------------------------------\n",
      "Table 11:\n",
      "\n",
      "[]\n",
      "------------------------------------------------------------\n",
      "Table 12:\n",
      "\n",
      "[]\n",
      "------------------------------------------------------------\n",
      "Table 13:\n",
      "\n",
      "[]\n",
      "------------------------------------------------------------\n",
      "Table 14:\n",
      "\n",
      "[]\n",
      "------------------------------------------------------------\n",
      "Table 15:\n",
      "\n",
      "[]\n",
      "------------------------------------------------------------\n",
      "Table 16:\n",
      "\n",
      "[]\n",
      "------------------------------------------------------------\n",
      "Table 17:\n",
      "\n",
      "[]\n",
      "------------------------------------------------------------\n"
     ]
    }
   ],
   "source": [
    "for idx, table in enumerate(p.tables):\n",
    "    print(f\"Table {idx}:\\n\")\n",
    "    pprint(table)\n",
    "    print(\"-\" * 60)"
   ]
  },
  {
   "cell_type": "code",
   "execution_count": 40,
   "id": "07b6fcb3",
   "metadata": {},
   "outputs": [],
   "source": [
    "# selected_table_index = 1  \n",
    "# df = pd.DataFrame(p.tables[selected_table_index])"
   ]
  },
  {
   "cell_type": "markdown",
   "id": "b1593920",
   "metadata": {},
   "source": [
    "# Beautifulsoup"
   ]
  },
  {
   "cell_type": "code",
   "execution_count": 13,
   "id": "704df999",
   "metadata": {},
   "outputs": [
    {
     "name": "stdout",
     "output_type": "stream",
     "text": [
      "✅ Data saved to 'price_history.csv'\n"
     ]
    }
   ],
   "source": [
    "from selenium import webdriver\n",
    "from selenium.webdriver.common.by import By\n",
    "from selenium.webdriver.chrome.service import Service\n",
    "from selenium.webdriver.support.ui import WebDriverWait\n",
    "from selenium.webdriver.support import expected_conditions as EC\n",
    "from webdriver_manager.chrome import ChromeDriverManager\n",
    "from bs4 import BeautifulSoup\n",
    "import pandas as pd\n",
    "\n",
    "# Setup ChromeDriver\n",
    "service = Service(ChromeDriverManager().install())\n",
    "options = webdriver.ChromeOptions()\n",
    "# options.add_argument(\"--headless\")\n",
    "options.add_argument(\"--disable-gpu\")\n",
    "options.add_argument(\"--no-sandbox\")\n",
    "\n",
    "driver = webdriver.Chrome(service=service, options=options)\n",
    "\n",
    "try:\n",
    "    #target page\n",
    "    url = \"https://www.sharesansar.com/company/sarbtm\"\n",
    "    driver.get(url)\n",
    "\n",
    "    # Wait explicitly for the table to load (up to 15 seconds)\n",
    "    WebDriverWait(driver, 15).until(\n",
    "        EC.presence_of_element_located((By.TAG_NAME, \"table\"))\n",
    "    )\n",
    "\n",
    "   \n",
    "    soup = BeautifulSoup(driver.page_source, \"html.parser\")\n",
    "\n",
    "    # Find the table\n",
    "    table = soup.find(\"table\")\n",
    "    if not table:\n",
    "        raise Exception(\"Table not found!\")\n",
    "\n",
    "        \n",
    "    rows = []\n",
    "    for tr in table.find_all(\"tr\"):\n",
    "        cells = [td.get_text(strip=True) for td in tr.find_all([\"th\", \"td\"])]\n",
    "        if cells:\n",
    "            rows.append(cells)\n",
    "\n",
    "    # Convert to DataFrame\n",
    "    df = pd.DataFrame(rows[1:], columns=rows[0])\n",
    "    df.to_csv(\"price_history.csv\", index=False)\n",
    "    print(\"✅ Data saved to 'price_history.csv'\")\n",
    "\n",
    "except Exception as e:\n",
    "    print(\"❌ Error:\", e)\n",
    "\n",
    "finally:\n",
    "    driver.quit()\n"
   ]
  }
 ],
 "metadata": {
  "kernelspec": {
   "display_name": "Python 3 (ipykernel)",
   "language": "python",
   "name": "python3"
  },
  "language_info": {
   "codemirror_mode": {
    "name": "ipython",
    "version": 3
   },
   "file_extension": ".py",
   "mimetype": "text/x-python",
   "name": "python",
   "nbconvert_exporter": "python",
   "pygments_lexer": "ipython3",
   "version": "3.10.9"
  }
 },
 "nbformat": 4,
 "nbformat_minor": 5
}
